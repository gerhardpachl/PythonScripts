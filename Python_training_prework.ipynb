{
 "cells": [
  {
   "cell_type": "code",
   "execution_count": 4,
   "metadata": {
    "collapsed": false
   },
   "outputs": [
    {
     "name": "stdout",
     "output_type": "stream",
     "text": [
      "choose a number between 1 an 20\n",
      "11\n",
      "try a lower number\n",
      "choose a number between 1 an 20\n",
      "6\n",
      "try a lower number\n",
      "choose a number between 1 an 20\n",
      "3\n",
      "try a lower number\n",
      "choose a number between 1 an 20\n",
      "2\n",
      "try a lower number\n",
      "choose a number between 1 an 20\n",
      "1\n",
      "You are right\n"
     ]
    }
   ],
   "source": [
    "# python tst program -*- coding: utf-8 -*\n",
    "# create a random number\n",
    "# user has to find out these numbers by choosing a number in a given range \n",
    "\n",
    "import random\n",
    "\n",
    "num = random.randint(1,20)\n",
    "\n",
    "while True:\n",
    "    print \"choose a number between 1 an 20\"\n",
    "    value = raw_input()\n",
    "    i = int(value)\n",
    "\n",
    "    if i == num:\n",
    "        print \"You are right\"\n",
    "        break\n",
    "\n",
    "    elif i < num:\n",
    "        print \"try a higher number\"\n",
    "\n",
    "    elif i > num:\n",
    "        print \"try a lower number\""
   ]
  },
  {
   "cell_type": "code",
   "execution_count": null,
   "metadata": {
    "collapsed": true
   },
   "outputs": [],
   "source": []
  }
 ],
 "metadata": {
  "kernelspec": {
   "display_name": "Python 2",
   "language": "python",
   "name": "python2"
  },
  "language_info": {
   "codemirror_mode": {
    "name": "ipython",
    "version": 2
   },
   "file_extension": ".py",
   "mimetype": "text/x-python",
   "name": "python",
   "nbconvert_exporter": "python",
   "pygments_lexer": "ipython2",
   "version": "2.7.11"
  }
 },
 "nbformat": 4,
 "nbformat_minor": 0
}
